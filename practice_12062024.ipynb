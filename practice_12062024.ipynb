{
 "cells": [
  {
   "cell_type": "markdown",
   "metadata": {},
   "source": [
    "1. Taban kenar uzunluğu 5 cm, Yükseklik uzunluğu 10 cm olan üçegenin alanını hesaplayınız."
   ]
  },
  {
   "cell_type": "code",
   "execution_count": 2,
   "metadata": {},
   "outputs": [
    {
     "name": "stdout",
     "output_type": "stream",
     "text": [
      "25.0\n"
     ]
    }
   ],
   "source": [
    "a=5\n",
    "h=10\n",
    "Alan=a * h / 2\n",
    "print(Alan)\n"
   ]
  },
  {
   "cell_type": "markdown",
   "metadata": {},
   "source": [
    "2. Yarıçapı 7 cm olan dairenin çevresini hesaplayınız. (π = 3)"
   ]
  },
  {
   "cell_type": "code",
   "execution_count": 3,
   "metadata": {},
   "outputs": [
    {
     "name": "stdout",
     "output_type": "stream",
     "text": [
      "42\n"
     ]
    }
   ],
   "source": [
    "r = 7\n",
    "pi=3\n",
    "Circumfence=2 * pi * r\n",
    "print(Circumfence)\n"
   ]
  },
  {
   "cell_type": "markdown",
   "metadata": {},
   "source": [
    "3. Bir dikdörtgenin uzn kenarı 8 cm, kısa kenarı 5 cm'dir. Dikdörgenin alanı kaç cm²'dir?"
   ]
  },
  {
   "cell_type": "code",
   "execution_count": 4,
   "metadata": {},
   "outputs": [
    {
     "name": "stdout",
     "output_type": "stream",
     "text": [
      "40\n"
     ]
    }
   ],
   "source": [
    "long_side = 8\n",
    "short_side = 5\n",
    "Area = short_side * long_side\n",
    "print(Area)"
   ]
  },
  {
   "cell_type": "markdown",
   "metadata": {},
   "source": [
    "4. 1'den 10 a kadar olan sayıların karesini ekrana yazdırın."
   ]
  },
  {
   "cell_type": "code",
   "execution_count": 6,
   "metadata": {},
   "outputs": [
    {
     "name": "stdout",
     "output_type": "stream",
     "text": [
      "1'in karesi :  1\n",
      "2'in karesi :  4\n",
      "3'in karesi :  9\n",
      "4'in karesi :  16\n",
      "5'in karesi :  25\n",
      "6'in karesi :  36\n",
      "7'in karesi :  49\n",
      "8'in karesi :  64\n",
      "9'in karesi :  81\n",
      "10'in karesi :  100\n"
     ]
    }
   ],
   "source": [
    "a=1\n",
    "print(\"1'in karesi : \", a ** 2)\n",
    "print(\"2'in karesi : \", (a + 1) ** 2)\n",
    "print(\"3'in karesi : \", (a + 2) ** 2)\n",
    "print(\"4'in karesi : \", (a + 3) ** 2)\n",
    "print(\"5'in karesi : \", (a + 4) ** 2)\n",
    "print(\"6'in karesi : \", (a + 5) ** 2)\n",
    "print(\"7'in karesi : \", (a + 6) ** 2)\n",
    "print(\"8'in karesi : \", (a + 7) ** 2)\n",
    "print(\"9'in karesi : \", (a + 8) ** 2)\n",
    "print(\"10'in karesi : \", (a + 9) ** 2)"
   ]
  },
  {
   "cell_type": "markdown",
   "metadata": {},
   "source": [
    "5. a=10, b=20 dir. a ile b değerlerinin yerini değiştirip sonuç olarak a=20 ve b=10 elde etmek için gerekli algoritmayı oluşturup python kodlarını yazınız. Not: Yeniden değer atamadan yapınız."
   ]
  },
  {
   "cell_type": "code",
   "execution_count": 8,
   "metadata": {},
   "outputs": [
    {
     "name": "stdout",
     "output_type": "stream",
     "text": [
      "10 a  and b  20\n",
      "20 a  and b  10\n",
      "10 a  and b  20\n",
      "20 a  and b  10\n"
     ]
    }
   ],
   "source": [
    "a = 10\n",
    "b = 20\n",
    "print( a , \"a  and b \", b)\n",
    "temp = a\n",
    "a = b\n",
    "b = temp\n",
    "print( a , \"a  and b \", b)\n",
    "\n",
    "a = a + b\n",
    "b = a - b\n",
    "a = a - b\n",
    "\n",
    "print( a , \"a  and b \", b)\n",
    "\n",
    "a , b= b, a\n",
    "\n",
    "print( a , \"a  and b \", b)\n"
   ]
  },
  {
   "cell_type": "markdown",
   "metadata": {},
   "source": [
    "6. Yaş Hesaplama:\n",
    "\n",
    "Kullanıcıdan doğum yılını alarak yaşını hesaplayın ve farklı veri tipleri ile işlem yapın."
   ]
  },
  {
   "cell_type": "code",
   "execution_count": 9,
   "metadata": {},
   "outputs": [
    {
     "name": "stdout",
     "output_type": "stream",
     "text": [
      "Age :  41\n"
     ]
    }
   ],
   "source": [
    "birth_year = input(\" Enter date of birth\") #string\n",
    "\n",
    "birth_year=int(birth_year)\n",
    "\n",
    "current_year= 2024\n",
    "\n",
    "age= current_year - birth_year\n",
    "print( \"Age : \", age)"
   ]
  },
  {
   "cell_type": "markdown",
   "metadata": {},
   "source": [
    "7. Vücut Kitle İndeksi (BMI) Hesaplama:\n",
    "\n",
    "Kullanıcıdan kilo ve boy bilgilerini alarak BMI hesaplayın ve sonucu yuvarlayarak ekrana yazdırın."
   ]
  },
  {
   "cell_type": "code",
   "execution_count": 14,
   "metadata": {},
   "outputs": [
    {
     "name": "stdout",
     "output_type": "stream",
     "text": [
      "BMI :  31.98\n"
     ]
    }
   ],
   "source": [
    "# bmi = kg / boy (m)\n",
    "weight = float (input (\"Kilonuzu giriniz (kg) :\"))\n",
    "height = float (input (\"Boyunuzu giriniz (metre 1.75 gibi) :\"))\n",
    "\n",
    "bmi = weight / ( height ** 2)\n",
    "print( \"BMI : \", round(bmi, 2))"
   ]
  },
  {
   "cell_type": "code",
   "execution_count": 12,
   "metadata": {},
   "outputs": [
    {
     "data": {
      "text/plain": [
       "31.22"
      ]
     },
     "execution_count": 12,
     "metadata": {},
     "output_type": "execute_result"
    }
   ],
   "source": [
    "round(31.2213039, 2)"
   ]
  },
  {
   "cell_type": "markdown",
   "metadata": {},
   "source": [
    "8. Alışveriş Faturası Hesaplama:\n",
    "\n",
    "Kullanıcıdan ürün fiyatlarını ve adetlerini alarak toplam tutarı hesaplayın."
   ]
  },
  {
   "cell_type": "code",
   "execution_count": 15,
   "metadata": {},
   "outputs": [
    {
     "name": "stdout",
     "output_type": "stream",
     "text": [
      " Total Price : 45.0\n"
     ]
    }
   ],
   "source": [
    "price=float(input(\" Enter product price\"))\n",
    "quantity= int(input( \"Enter product quantity\" ))\n",
    "\n",
    "total = price * quantity\n",
    "\n",
    "print(\" Total Price :\", total)"
   ]
  },
  {
   "cell_type": "markdown",
   "metadata": {},
   "source": [
    "9. Döviz Çevirici:\n",
    "\n",
    "Kullanıcıdan bir miktar para alarak güncel döviz kuru ile farklı bir para birimine çevirin."
   ]
  },
  {
   "cell_type": "code",
   "execution_count": 16,
   "metadata": {},
   "outputs": [
    {
     "name": "stdout",
     "output_type": "stream",
     "text": [
      "converted amount:  84.0\n"
     ]
    }
   ],
   "source": [
    "amount= float(input(\"Enter the amount to be convert\"))\n",
    "\n",
    "conversion_rate=0.84 # 1 USD = 0.84 EUR\n",
    "converted_amount=amount * conversion_rate\n",
    "\n",
    "print (\"converted amount: \",round(converted_amount, 2))"
   ]
  },
  {
   "cell_type": "markdown",
   "metadata": {},
   "source": [
    "10. İndirim Hesaplama:\n",
    "\n",
    "Kullanıcıdan ürünün fiyatını ve indirim yüzdesini alarak indirimli fiyatı hesaplayın."
   ]
  },
  {
   "cell_type": "code",
   "execution_count": 17,
   "metadata": {},
   "outputs": [
    {
     "name": "stdout",
     "output_type": "stream",
     "text": [
      "indirimli fiyat  138.0\n"
     ]
    }
   ],
   "source": [
    "original_price=float(input(\"Enter original price of product\"))\n",
    "discount_percentage=float(input(\"Enter discount percentage\"))\n",
    "\n",
    "discount_amount= original_price * (discount_percentage / 100)\n",
    "discount_price= original_price - discount_amount\n",
    "print(\"indirimli fiyat \", round(discount_price,2))"
   ]
  },
  {
   "cell_type": "markdown",
   "metadata": {},
   "source": [
    "11. Mesafe Dönüştürücü:\n",
    "\n",
    "Kullanıcıdan kilometre veya mil cinsinden bir mesafe alarak farklı birimlere çevirin."
   ]
  },
  {
   "cell_type": "code",
   "execution_count": 18,
   "metadata": {},
   "outputs": [
    {
     "name": "stdout",
     "output_type": "stream",
     "text": [
      "1500.0 kilometre =  930.0  mildir\n"
     ]
    }
   ],
   "source": [
    "kilometers = float(input(\"Enter distance using km \"))\n",
    "miles = kilometers * 0.62\n",
    "print(kilometers, \"kilometre = \",round(miles,2),\" mildir\" )"
   ]
  },
  {
   "cell_type": "markdown",
   "metadata": {},
   "source": [
    "12. Kullanıcıdan bir saniye değeri girmesini isteyin. girilen saniyeyi saat dakika ve sn cinsinden yazdırın. <br><br>\n",
    "örn: 19520 sn >> 5 saat, 25 dk, 20 saniye "
   ]
  },
  {
   "cell_type": "code",
   "execution_count": 19,
   "metadata": {},
   "outputs": [
    {
     "name": "stdout",
     "output_type": "stream",
     "text": [
      "800000 sn >> 222 hours 13 minutes 20 seconds\n"
     ]
    }
   ],
   "source": [
    "seconds=int(input(\"Enter seconds \"))\n",
    "hours=seconds // 3600\n",
    "minutes=(seconds % 3600) // 60\n",
    "sn=seconds % 60\n",
    "print(seconds, \"sn >>\",hours, \"hours\",minutes, \"minutes\",sn, \"seconds\")\n",
    "\n",
    "#\\n alt satira gecirir\n",
    "\n"
   ]
  },
  {
   "cell_type": "markdown",
   "metadata": {},
   "source": [
    "13. Sıcaklık Dönüştürücü:\n",
    "\n",
    "Kullanıcıdan Celsius veya Fahrenheit cinsinden bir sıcaklık alarak diğer birime çevirin."
   ]
  },
  {
   "cell_type": "code",
   "execution_count": 20,
   "metadata": {},
   "outputs": [
    {
     "name": "stdout",
     "output_type": "stream",
     "text": [
      "180.0 C = 356.0 F\n"
     ]
    }
   ],
   "source": [
    "celsius=float(input(\" Enter the temperature in Celsius\"))\n",
    "fahrenheit=(celsius * 1.8) +32\n",
    "print(celsius, \"C =\",fahrenheit, \"F\")"
   ]
  },
  {
   "cell_type": "markdown",
   "metadata": {},
   "source": [
    "14. Kullanıcıdan mevcut maaşı ve zam yüzdesini alarak yeni maaşı hesaplayın."
   ]
  },
  {
   "cell_type": "code",
   "execution_count": 21,
   "metadata": {},
   "outputs": [
    {
     "name": "stdout",
     "output_type": "stream",
     "text": [
      "new salary:  7875.0\n"
     ]
    }
   ],
   "source": [
    "salary=float(input(\"Enter your salary\"))\n",
    "\n",
    "Salary_increase_percentage=float(input(\" Enter Salary increase percentage\"))\n",
    "\n",
    "increase_price = salary * (Salary_increase_percentage / 100)\n",
    "\n",
    "new_salary = salary + increase_price\n",
    "\n",
    "print(\"new salary: \",new_salary)\n",
    "\n"
   ]
  },
  {
   "cell_type": "markdown",
   "metadata": {},
   "source": [
    "15. İlk 100 pozitif tam sayının toplamını hesaplayın."
   ]
  },
  {
   "cell_type": "code",
   "execution_count": null,
   "metadata": {},
   "outputs": [],
   "source": [
    "#n=5 ==> n * (n+1)/2\n",
    "\n",
    "n= 100\n",
    "\n",
    "sum= n * (n + 1) // 2\n",
    "\n",
    "print ( \"sum of the first 100 positive number\", sum)"
   ]
  },
  {
   "cell_type": "markdown",
   "metadata": {},
   "source": [
    "16> Basit Faiz Hesaplama:\n",
    "Kullanicidan ana para, faiz orani ve sure bilgilerini alarak basit faizi hesaplayin\n",
    "anapara * faiz orani * sure/ 100"
   ]
  },
  {
   "cell_type": "code",
   "execution_count": 22,
   "metadata": {},
   "outputs": [
    {
     "name": "stdout",
     "output_type": "stream",
     "text": [
      "faiz  8000.0\n"
     ]
    }
   ],
   "source": [
    "principal = float(input(\"Enter your anapara\"))\n",
    "rate_of_interest = float(input(\"Enter faiz orani\"))\n",
    "time = float(input(\"Enter paranin banakada kalma suresi\"))\n",
    "simple_interest = principal * rate_of_interest *time // 100\n",
    "print(\"faiz \",simple_interest)"
   ]
  },
  {
   "cell_type": "markdown",
   "metadata": {},
   "source": [
    "17. Öğrencilerine 12 haneli öğrenci numarası veren üniversitenin verdiği numaranın ilk 4 hanesi giriş yılı 5. ve 6. hanesi okuduğu fakültenin numarası 7. ve 8. hane bölüm numarası 9. ve 10. hanesi öğrenim numarası 11. ve 12. hane ise öğrencinin üniversiteye giriş sırasıdır. 12 haneli öğrenci kodunu kullanıcıdan alarak anlamlı şekilde ayıran ve ekrana yazan kodu yazınız.\n",
    "\tÖrnek Çıktı:\n",
    "*\tÖğrenci No: 201514110321\n",
    "*\tNUMARANIN ACILIMI:\n",
    "*\tGirisYili: 2015\n",
    "*\tFakulteNo: 14\n",
    "*\tBolumNo: 11\n",
    "*\tOgrenimNo: 03\n",
    "*\tOgrenciNo: 21"
   ]
  },
  {
   "cell_type": "code",
   "execution_count": null,
   "metadata": {},
   "outputs": [],
   "source": [
    "giris_yili = input(\"Üniversiteye giriş yılınızı giriniz: 'Ör: 2024'\")\n",
    "fakulte = input(\"Fakülte kodunuzu giriniz: 'Eğitim-01, Fen-Edebiyat-02, Mühendislik-03, Tıp-04'\")\n",
    "bolum = input(\"Bölüm kodunuzu giriniz: 'Bilgisayar Mühendisliği-01 gibi'\")\n",
    "ogrenimNo = input(\"Öğrenim kodunu giriniz: 'Ör: 05'\")\n",
    "siralama = input(\"Üniversiteye giriş sıra numaranızı yazınız: 'Ör: 99'\")\n",
    "\n",
    "ogrenciNo = giris_yili + fakulte + bolum + ogrenimNo+ siralama\n",
    "\n",
    "print(\"Öğrenci numaranız:\", ogrenciNo)"
   ]
  }
 ],
 "metadata": {
  "kernelspec": {
   "display_name": "Python 3",
   "language": "python",
   "name": "python3"
  },
  "language_info": {
   "codemirror_mode": {
    "name": "ipython",
    "version": 3
   },
   "file_extension": ".py",
   "mimetype": "text/x-python",
   "name": "python",
   "nbconvert_exporter": "python",
   "pygments_lexer": "ipython3",
   "version": "3.11.9"
  }
 },
 "nbformat": 4,
 "nbformat_minor": 2
}
